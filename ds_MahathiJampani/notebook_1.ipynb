{
  "nbformat": 4,
  "nbformat_minor": 0,
  "metadata": {
    "colab": {
      "provenance": []
    },
    "kernelspec": {
      "name": "python3",
      "display_name": "Python 3"
    },
    "language_info": {
      "name": "python"
    }
  },
  "cells": [
    {
      "cell_type": "code",
      "execution_count": 1,
      "metadata": {
        "id": "CSJ2Yand_KuP"
      },
      "outputs": [],
      "source": [
        "# ===============================\n",
        "# 1. Setup\n",
        "# ===============================\n",
        "import pandas as pd\n",
        "import numpy as np\n",
        "import matplotlib.pyplot as plt\n",
        "import seaborn as sns\n",
        "import os\n",
        "from scipy.stats import levene, f_oneway\n",
        "from sklearn.model_selection import train_test_split\n",
        "from sklearn.preprocessing import OneHotEncoder\n",
        "from sklearn.compose import ColumnTransformer\n",
        "from sklearn.pipeline import Pipeline\n",
        "from sklearn.linear_model import LinearRegression, LogisticRegression\n",
        "from sklearn.impute import SimpleImputer\n",
        "from sklearn.metrics import mean_absolute_error, mean_squared_error, r2_score\n",
        "from sklearn.metrics import accuracy_score, precision_score, recall_score, f1_score\n",
        "import plotly.express as px\n",
        "\n",
        "sns.set(style=\"whitegrid\")\n",
        "\n",
        "# Create folders\n",
        "os.makedirs(\"outputs\", exist_ok=True)\n",
        "os.makedirs(\"csv_files\", exist_ok=True)"
      ]
    },
    {
      "cell_type": "code",
      "source": [
        "# ===============================\n",
        "# 2. Load Data\n",
        "# ===============================\n",
        "trader_data = pd.read_csv('/content/drive/MyDrive/ds_Mahathi Jampani/historical_data.csv')\n",
        "sentiment_data = pd.read_csv('/content/drive/MyDrive/ds_Mahathi Jampani/fear_greed_index.csv')\n",
        "\n",
        "print(\"Trader data shape:\", trader_data.shape)\n",
        "print(\"Sentiment data shape:\", sentiment_data.shape)"
      ],
      "metadata": {
        "colab": {
          "base_uri": "https://localhost:8080/"
        },
        "id": "QYkyBBXeB52z",
        "outputId": "2aa2c668-354e-4e48-fbd0-0dafff164280"
      },
      "execution_count": 2,
      "outputs": [
        {
          "output_type": "stream",
          "name": "stdout",
          "text": [
            "Trader data shape: (211224, 16)\n",
            "Sentiment data shape: (2644, 4)\n"
          ]
        }
      ]
    },
    {
      "cell_type": "code",
      "source": [
        "# ===============================\n",
        "# 3. Data Cleaning\n",
        "# ===============================\n",
        "trader_data['time'] = pd.to_datetime(trader_data['Timestamp IST'], format='%d-%m-%Y %H:%M')\n",
        "sentiment_data['date'] = pd.to_datetime(sentiment_data['date'])\n",
        "\n",
        "sentiment_data['classification'] = sentiment_data['classification'].str.strip().str.title()\n",
        "sentiment_mapping = {\"Extreme Fear\":0,\"Fear\":1,\"Neutral\":2,\"Greed\":3,\"Extreme Greed\":4}\n",
        "sentiment_data['sentiment_flag'] = sentiment_data['classification'].map(sentiment_mapping)\n",
        "\n",
        "trader_data['date'] = pd.to_datetime(trader_data['time'].dt.date)"
      ],
      "metadata": {
        "id": "Q8mfgQdlCiH5"
      },
      "execution_count": 3,
      "outputs": []
    },
    {
      "cell_type": "code",
      "source": [
        "# ===============================\n",
        "# 4. Merge Datasets\n",
        "# ===============================\n",
        "merged = trader_data.merge(sentiment_data, on=\"date\", how=\"left\")\n",
        "merged['notional'] = merged['Execution Price'] * merged['Size USD']\n",
        "merged['win_flag'] = (merged['Closed PnL'] > 0).astype(int)\n",
        "median_notional = merged['notional'].median()\n",
        "merged['proxy_leverage'] = merged['notional'] / median_notional"
      ],
      "metadata": {
        "id": "gtKUPPo8CmEr"
      },
      "execution_count": 4,
      "outputs": []
    },
    {
      "cell_type": "code",
      "source": [
        "# ===============================\n",
        "# 5. Exploratory Data Analysis\n",
        "# ===============================\n",
        "plot_data = merged.sample(10000, random_state=42)\n",
        "\n",
        "# 5.1 Avg PnL by Sentiment\n",
        "avg_pnl = merged.groupby('classification')['Closed PnL'].mean()\n",
        "sns.barplot(x=avg_pnl.index, y=avg_pnl.values,\n",
        "            order=[\"Extreme Fear\",\"Fear\",\"Neutral\",\"Greed\",\"Extreme Greed\"])\n",
        "plt.title(\"Average PnL by Market Sentiment\")\n",
        "plt.savefig(\"outputs/avg_pnl_sentiment.png\"); plt.close()"
      ],
      "metadata": {
        "id": "7KHD7MLmCqly"
      },
      "execution_count": 5,
      "outputs": []
    },
    {
      "cell_type": "code",
      "source": [
        "# 5.2 PnL Distribution\n",
        "sns.boxplot(x=\"classification\", y=\"Closed PnL\", data=plot_data,\n",
        "            order=[\"Extreme Fear\",\"Fear\",\"Neutral\",\"Greed\",\"Extreme Greed\"])\n",
        "plt.title(\"PnL Distribution by Sentiment\")\n",
        "plt.savefig(\"outputs/pnl_distribution.png\"); plt.close()"
      ],
      "metadata": {
        "id": "EhmXzW9qCuuc"
      },
      "execution_count": 6,
      "outputs": []
    },
    {
      "cell_type": "code",
      "source": [
        "# 5.3 Proxy Leverage Distribution\n",
        "sns.boxplot(x=\"classification\", y=\"proxy_leverage\", data=plot_data,\n",
        "            order=[\"Extreme Fear\",\"Fear\",\"Neutral\",\"Greed\",\"Extreme Greed\"])\n",
        "plt.ylim(0, plot_data['proxy_leverage'].quantile(0.95))\n",
        "plt.title(\"Proxy Leverage by Sentiment\")\n",
        "plt.savefig(\"outputs/proxy_leverage_boxplot.png\"); plt.close()"
      ],
      "metadata": {
        "id": "BBkYaFmLC0Ck"
      },
      "execution_count": 7,
      "outputs": []
    },
    {
      "cell_type": "code",
      "source": [
        "# 5.4 Daily/Weekly Summary\n",
        "daily = merged.groupby(['date','classification']).agg(\n",
        "    avg_pnl=('Closed PnL','mean'),\n",
        "    win_rate=('win_flag','mean'),\n",
        "    total_volume=('notional','sum'),\n",
        "    avg_proxy_leverage=('proxy_leverage','mean'),\n",
        "    sentiment_flag=('sentiment_flag','first')\n",
        ").reset_index()\n",
        "daily['week'] = daily['date'].dt.to_period('W').apply(lambda r: r.start_time)\n",
        "weekly = daily.groupby(['week','classification']).mean().reset_index()\n",
        "\n",
        "sns.lineplot(data=weekly, x=\"week\", y=\"win_rate\", hue=\"classification\")\n",
        "plt.title(\"Weekly Win Rate by Sentiment\")\n",
        "plt.savefig(\"outputs/weekly_winrate.png\"); plt.close()\n",
        "\n",
        "daily.to_csv(\"csv_files/daily_summary.csv\", index=False)\n",
        "weekly.to_csv(\"csv_files/weekly_summary.csv\", index=False)"
      ],
      "metadata": {
        "id": "SbBVMfuUC3ma"
      },
      "execution_count": 8,
      "outputs": []
    },
    {
      "cell_type": "code",
      "source": [
        "# ===============================\n",
        "# 6. Hypothesis Testing\n",
        "# ===============================\n",
        "groups = [merged.loc[merged['classification']==c, 'Closed PnL'].dropna()\n",
        "          for c in [\"Extreme Fear\",\"Fear\",\"Neutral\",\"Greed\",\"Extreme Greed\"]]\n",
        "print(\"Levene:\", levene(*groups))\n",
        "print(\"ANOVA:\", f_oneway(*groups))"
      ],
      "metadata": {
        "colab": {
          "base_uri": "https://localhost:8080/"
        },
        "id": "ulY-gcBEDCwM",
        "outputId": "357b936d-c28d-4904-c5f3-c2143a209dd0"
      },
      "execution_count": 9,
      "outputs": [
        {
          "output_type": "stream",
          "name": "stdout",
          "text": [
            "Levene: LeveneResult(statistic=np.float64(8.659583166669647), pvalue=np.float64(5.518698923909494e-07))\n",
            "ANOVA: F_onewayResult(statistic=np.float64(9.062225672396693), pvalue=np.float64(2.5753989849026544e-07))\n"
          ]
        }
      ]
    },
    {
      "cell_type": "code",
      "source": [
        "# ===============================\n",
        "# 7. Summary Metrics & Correlation\n",
        "# ===============================\n",
        "sentiment_summary = merged.groupby('classification').agg(\n",
        "    avg_pnl=('Closed PnL','mean'),\n",
        "    win_rate=('win_flag','mean'),\n",
        "    avg_notional=('notional','mean'),\n",
        "    avg_proxy_leverage=('proxy_leverage','mean')\n",
        ").reset_index()\n",
        "\n",
        "sns.heatmap(merged[['Closed PnL','notional','proxy_leverage']].corr(),\n",
        "            annot=True, cmap=\"coolwarm\", fmt=\".2f\")\n",
        "plt.title(\"Correlation Heatmap\")\n",
        "plt.savefig(\"outputs/correlation_heatmap.png\"); plt.close()"
      ],
      "metadata": {
        "id": "npAmr1HiDFsd"
      },
      "execution_count": 10,
      "outputs": []
    },
    {
      "cell_type": "code",
      "source": [
        "# ===============================\n",
        "# 8. Granular Analysis (Coin × Direction)\n",
        "# ===============================\n",
        "coin_dir_perf = merged.groupby(['classification','Coin','Direction']).agg(\n",
        "    avg_pnl=('Closed PnL','mean'),\n",
        "    win_rate=('win_flag','mean'),\n",
        "    avg_notional=('notional','mean'),\n",
        "    avg_proxy_leverage=('proxy_leverage','mean')\n",
        ").reset_index()"
      ],
      "metadata": {
        "id": "jqz3cLmWDKRs"
      },
      "execution_count": 11,
      "outputs": []
    },
    {
      "cell_type": "code",
      "source": [
        "# ===============================\n",
        "# 9. Statistical Modeling\n",
        "# ===============================\n",
        "# Regression (PnL prediction)\n",
        "X = merged[['Execution Price','Size USD','Start Position','Fee','Size Tokens',\n",
        "            'proxy_leverage','sentiment_flag','Coin','Side','Direction']]\n",
        "y = merged['Closed PnL']\n",
        "cat = ['Coin','Side','Direction']\n",
        "num = [f for f in X.columns if f not in cat]\n",
        "pre = ColumnTransformer([('num', SimpleImputer(strategy='median'), num),\n",
        "                         ('cat', OneHotEncoder(handle_unknown='ignore'), cat)])\n",
        "reg_model = Pipeline([('pre', pre), ('lr', LinearRegression())])\n",
        "X_train,X_test,y_train,y_test=train_test_split(X,y,test_size=0.2,random_state=42)\n",
        "reg_model.fit(X_train,y_train)\n",
        "y_pred=reg_model.predict(X_test)\n",
        "mae = mean_absolute_error(y_test, y_pred)\n",
        "mse = mean_squared_error(y_test, y_pred)\n",
        "rmse = np.sqrt(mse)\n",
        "r2 = r2_score(y_test, y_pred)\n",
        "\n",
        "print(f\"MAE: {mae:.2f}\")\n",
        "print(f\"MSE: {mse:.2f}\")\n",
        "print(f\"RMSE: {rmse:.2f}\")\n",
        "print(f\"R-squared: {r2:.4f}\")"
      ],
      "metadata": {
        "colab": {
          "base_uri": "https://localhost:8080/"
        },
        "id": "EVPtti2BDNwQ",
        "outputId": "2f007928-03e2-4b20-d164-3254cbe245cc"
      },
      "execution_count": 12,
      "outputs": [
        {
          "output_type": "stream",
          "name": "stdout",
          "text": [
            "MAE: 108.28\n",
            "MSE: 1562073.07\n",
            "RMSE: 1249.83\n",
            "R-squared: -0.0593\n"
          ]
        }
      ]
    },
    {
      "cell_type": "code",
      "source": [
        "# Classification (Win/Loss prediction)\n",
        "y = merged['win_flag']\n",
        "clf_model = Pipeline([('pre', pre), ('clf', LogisticRegression(max_iter=1000))])\n",
        "X_train,X_test,y_train,y_test=train_test_split(X,y,test_size=0.2,random_state=42)\n",
        "clf_model.fit(X_train,y_train)\n",
        "y_pred=clf_model.predict(X_test)\n",
        "print(\"Classification Accuracy:\", accuracy_score(y_test,y_pred))"
      ],
      "metadata": {
        "colab": {
          "base_uri": "https://localhost:8080/"
        },
        "id": "WKf_qdWwDRq0",
        "outputId": "fddf9117-13b4-4670-99af-e546a474f974"
      },
      "execution_count": 13,
      "outputs": [
        {
          "output_type": "stream",
          "name": "stdout",
          "text": [
            "Classification Accuracy: 0.9170552728133506\n"
          ]
        },
        {
          "output_type": "stream",
          "name": "stderr",
          "text": [
            "/usr/local/lib/python3.12/dist-packages/sklearn/linear_model/_logistic.py:465: ConvergenceWarning: lbfgs failed to converge (status=1):\n",
            "STOP: TOTAL NO. OF ITERATIONS REACHED LIMIT.\n",
            "\n",
            "Increase the number of iterations (max_iter) or scale the data as shown in:\n",
            "    https://scikit-learn.org/stable/modules/preprocessing.html\n",
            "Please also refer to the documentation for alternative solver options:\n",
            "    https://scikit-learn.org/stable/modules/linear_model.html#logistic-regression\n",
            "  n_iter_i = _check_optimize_result(\n"
          ]
        }
      ]
    },
    {
      "cell_type": "code",
      "source": [
        "# ===============================\n",
        "# 10. Time Series (Lagged Sentiment)\n",
        "# ===============================\n",
        "daily['lagged_sentiment_1d'] = daily['sentiment_flag'].shift(1)\n",
        "daily['sentiment_change_1d'] = daily['sentiment_flag'] - daily['lagged_sentiment_1d']\n",
        "merged_lagged = merged.merge(daily[['date','lagged_sentiment_1d','sentiment_change_1d']],\n",
        "                             on='date', how='left')\n",
        "\n",
        "avg_pnl_lagged = merged_lagged.groupby('lagged_sentiment_1d')['Closed PnL'].mean()\n",
        "win_rate_lagged = merged_lagged.groupby('lagged_sentiment_1d')['win_flag'].mean()"
      ],
      "metadata": {
        "id": "XHakilEIDVmI"
      },
      "execution_count": 14,
      "outputs": []
    },
    {
      "cell_type": "code",
      "source": [
        "print(\"\\nAverage PnL by Lagged Sentiment Flag:\")\n",
        "print(avg_pnl_lagged)\n",
        "\n",
        "print(\"\\nWin Rate by Lagged Sentiment Flag:\")\n",
        "print(win_rate_lagged)\n",
        "\n",
        "# Plotting\n",
        "plt.figure(figsize=(8,6))\n",
        "sns.barplot(x=avg_pnl_lagged.index, y=avg_pnl_lagged.values)\n",
        "plt.title(\"Average PnL by Lagged Sentiment\")\n",
        "plt.xlabel(\"Lagged Sentiment Flag\")\n",
        "plt.ylabel(\"Average PnL\")\n",
        "plt.savefig(\"outputs/avg_pnl_lagged.png\")\n",
        "plt.show(); plt.close()\n",
        "\n",
        "plt.figure(figsize=(8,6))\n",
        "sns.barplot(x=win_rate_lagged.index, y=win_rate_lagged.values)\n",
        "plt.title(\"Win Rate by Lagged Sentiment\")\n",
        "plt.xlabel(\"Lagged Sentiment Flag\")\n",
        "plt.ylabel(\"Win Rate\")\n",
        "plt.savefig(\"outputs/winrate_lagged.png\")\n",
        "plt.show(); plt.close()"
      ],
      "metadata": {
        "colab": {
          "base_uri": "https://localhost:8080/",
          "height": 1000
        },
        "id": "SwiNoaynFkk7",
        "outputId": "5fa6e96f-4df0-47f9-e6f0-7df9cd2628b7"
      },
      "execution_count": 15,
      "outputs": [
        {
          "output_type": "stream",
          "name": "stdout",
          "text": [
            "\n",
            "Average PnL by Lagged Sentiment Flag:\n",
            "lagged_sentiment_1d\n",
            "0.0    52.185226\n",
            "1.0    53.528731\n",
            "2.0    19.305665\n",
            "3.0    58.720691\n",
            "4.0    62.019896\n",
            "Name: Closed PnL, dtype: float64\n",
            "\n",
            "Win Rate by Lagged Sentiment Flag:\n",
            "lagged_sentiment_1d\n",
            "0.0    0.448113\n",
            "1.0    0.388343\n",
            "2.0    0.390363\n",
            "3.0    0.397670\n",
            "4.0    0.464555\n",
            "Name: win_flag, dtype: float64\n"
          ]
        },
        {
          "output_type": "display_data",
          "data": {
            "text/plain": [
              "<Figure size 800x600 with 1 Axes>"
            ],
            "image/png": "[encoded data removed]"
          },
          "metadata": {}
        },
        {
          "output_type": "display_data",
          "data": {
            "text/plain": [
              "<Figure size 800x600 with 1 Axes>"
            ],
            "image/png": "[encoded data removed]"
          },
          "metadata": {}
        }
      ]
    },
    {
      "cell_type": "code",
      "source": [
        "# ===============================\n",
        "# 11. Advanced Visuals & Risk\n",
        "# ===============================\n",
        "fig = px.scatter(sentiment_summary, x=\"avg_proxy_leverage\", y=\"avg_pnl\",\n",
        "                 color=\"classification\", title=\"PnL vs Leverage by Sentiment\")\n",
        "fig.show()\n",
        "\n",
        "confidence_level=0.95\n",
        "for s in merged['classification'].unique():\n",
        "    pnl = merged.loc[merged['classification']==s,'Closed PnL'].dropna()\n",
        "    if len(pnl)>0:\n",
        "        var = -np.percentile(pnl, (1-confidence_level)*100)\n",
        "        cvar = -pnl[pnl<=-var].mean() if len(pnl[pnl<=-var])>0 else 0\n",
        "        print(s, \"VaR:\", var, \"CVaR:\", cvar)"
      ],
      "metadata": {
        "colab": {
          "base_uri": "https://localhost:8080/",
          "height": 629
        },
        "id": "kP6p4C6-DhNK",
        "outputId": "dff3a910-9dec-4641-a339-fb2011aa26f4"
      },
      "execution_count": 16,
      "outputs": [
        {
          "output_type": "display_data",
          "data": {
            "text/html": [
              "<html>\n",
              "<head><meta charset=\"utf-8\" /></head>\n",
              "<body>\n",
              "    <div>            <script src=\"https://cdnjs.cloudflare.com/ajax/libs/mathjax/2.7.5/MathJax.js?config=TeX-AMS-MML_SVG\"></script><script type=\"text/javascript\">if (window.MathJax && window.MathJax.Hub && window.MathJax.Hub.Config) {window.MathJax.Hub.Config({SVG: {font: \"STIX-Web\"}});}</script>                <script type=\"text/javascript\">window.PlotlyConfig = {MathJaxConfig: 'local'};</script>\n",
              "        <script charset=\"utf-8\" src=\"https://cdn.plot.ly/plotly-2.35.2.min.js\"></script>                <div id=\"17b1b5ba-f1cf-4c5d-aa26-8ca434aceb08\" class=\"plotly-graph-div\" style=\"height:525px; width:100%;\"></div>            <script type=\"text/javascript\">                                    window.PLOTLYENV=window.PLOTLYENV || {};                                    if (document.getElementById(\"17b1b5ba-f1cf-4c5d-aa26-8ca434aceb08\")) {                    Plotly.newPlot(                        \"17b1b5ba-f1cf-4c5d-aa26-8ca434aceb08\",                        [{\"hovertemplate\":\"classification=Extreme Fear\\u003cbr\\u003eavg_proxy_leverage=%{x}\\u003cbr\\u003eavg_pnl=%{y}\\u003cextra\\u003e\\u003c\\u002fextra\\u003e\",\"legendgroup\":\"Extreme Fear\",\"marker\":{\"color\":\"#636efa\",\"symbol\":\"circle\"},\"mode\":\"markers\",\"name\":\"Extreme Fear\",\"orientation\":\"v\",\"showlegend\":true,\"x\":[13222.936918595591],\"xaxis\":\"x\",\"y\":[34.53786207897196],\"yaxis\":\"y\",\"type\":\"scatter\"},{\"hovertemplate\":\"classification=Extreme Greed\\u003cbr\\u003eavg_proxy_leverage=%{x}\\u003cbr\\u003eavg_pnl=%{y}\\u003cextra\\u003e\\u003c\\u002fextra\\u003e\",\"legendgroup\":\"Extreme Greed\",\"marker\":{\"color\":\"#EF553B\",\"symbol\":\"circle\"},\"mode\":\"markers\",\"name\":\"Extreme Greed\",\"orientation\":\"v\",\"showlegend\":true,\"x\":[10384.319299552484],\"xaxis\":\"x\",\"y\":[67.89286133909282],\"yaxis\":\"y\",\"type\":\"scatter\"},{\"hovertemplate\":\"classification=Fear\\u003cbr\\u003eavg_proxy_leverage=%{x}\\u003cbr\\u003eavg_pnl=%{y}\\u003cextra\\u003e\\u003c\\u002fextra\\u003e\",\"legendgroup\":\"Fear\",\"marker\":{\"color\":\"#00cc96\",\"symbol\":\"circle\"},\"mode\":\"markers\",\"name\":\"Fear\",\"orientation\":\"v\",\"showlegend\":true,\"x\":[39756.856097231896],\"xaxis\":\"x\",\"y\":[54.2903996254993],\"yaxis\":\"y\",\"type\":\"scatter\"},{\"hovertemplate\":\"classification=Greed\\u003cbr\\u003eavg_proxy_leverage=%{x}\\u003cbr\\u003eavg_pnl=%{y}\\u003cextra\\u003e\\u003c\\u002fextra\\u003e\",\"legendgroup\":\"Greed\",\"marker\":{\"color\":\"#ab63fa\",\"symbol\":\"circle\"},\"mode\":\"markers\",\"name\":\"Greed\",\"orientation\":\"v\",\"showlegend\":true,\"x\":[28264.371669857905],\"xaxis\":\"x\",\"y\":[42.74355948851957],\"yaxis\":\"y\",\"type\":\"scatter\"},{\"hovertemplate\":\"classification=Neutral\\u003cbr\\u003eavg_proxy_leverage=%{x}\\u003cbr\\u003eavg_pnl=%{y}\\u003cextra\\u003e\\u003c\\u002fextra\\u003e\",\"legendgroup\":\"Neutral\",\"marker\":{\"color\":\"#FFA15A\",\"symbol\":\"circle\"},\"mode\":\"markers\",\"name\":\"Neutral\",\"orientation\":\"v\",\"showlegend\":true,\"x\":[22684.480326663826],\"xaxis\":\"x\",\"y\":[34.30771839807886],\"yaxis\":\"y\",\"type\":\"scatter\"}],                        {\"template\":{\"data\":{\"histogram2dcontour\":[{\"type\":\"histogram2dcontour\",\"colorbar\":{\"outlinewidth\":0,\"ticks\":\"\"},\"colorscale\":[[0.0,\"#0d0887\"],[0.1111111111111111,\"#46039f\"],[0.2222222222222222,\"#7201a8\"],[0.3333333333333333,\"#9c179e\"],[0.4444444444444444,\"#bd3786\"],[0.5555555555555556,\"#d8576b\"],[0.6666666666666666,\"#ed7953\"],[0.7777777777777778,\"#fb9f3a\"],[0.8888888888888888,\"#fdca26\"],[1.0,\"#f0f921\"]]}],\"choropleth\":[{\"type\":\"choropleth\",\"colorbar\":{\"outlinewidth\":0,\"ticks\":\"\"}}],\"histogram2d\":[{\"type\":\"histogram2d\",\"colorbar\":{\"outlinewidth\":0,\"ticks\":\"\"},\"colorscale\":[[0.0,\"#0d0887\"],[0.1111111111111111,\"#46039f\"],[0.2222222222222222,\"#7201a8\"],[0.3333333333333333,\"#9c179e\"],[0.4444444444444444,\"#bd3786\"],[0.5555555555555556,\"#d8576b\"],[0.6666666666666666,\"#ed7953\"],[0.7777777777777778,\"#fb9f3a\"],[0.8888888888888888,\"#fdca26\"],[1.0,\"#f0f921\"]]}],\"heatmap\":[{\"type\":\"heatmap\",\"colorbar\":{\"outlinewidth\":0,\"ticks\":\"\"},\"colorscale\":[[0.0,\"#0d0887\"],[0.1111111111111111,\"#46039f\"],[0.2222222222222222,\"#7201a8\"],[0.3333333333333333,\"#9c179e\"],[0.4444444444444444,\"#bd3786\"],[0.5555555555555556,\"#d8576b\"],[0.6666666666666666,\"#ed7953\"],[0.7777777777777778,\"#fb9f3a\"],[0.8888888888888888,\"#fdca26\"],[1.0,\"#f0f921\"]]}],\"heatmapgl\":[{\"type\":\"heatmapgl\",\"colorbar\":{\"outlinewidth\":0,\"ticks\":\"\"},\"colorscale\":[[0.0,\"#0d0887\"],[0.1111111111111111,\"#46039f\"],[0.2222222222222222,\"#7201a8\"],[0.3333333333333333,\"#9c179e\"],[0.4444444444444444,\"#bd3786\"],[0.5555555555555556,\"#d8576b\"],[0.6666666666666666,\"#ed7953\"],[0.7777777777777778,\"#fb9f3a\"],[0.8888888888888888,\"#fdca26\"],[1.0,\"#f0f921\"]]}],\"contourcarpet\":[{\"type\":\"contourcarpet\",\"colorbar\":{\"outlinewidth\":0,\"ticks\":\"\"}}],\"contour\":[{\"type\":\"contour\",\"colorbar\":{\"outlinewidth\":0,\"ticks\":\"\"},\"colorscale\":[[0.0,\"#0d0887\"],[0.1111111111111111,\"#46039f\"],[0.2222222222222222,\"#7201a8\"],[0.3333333333333333,\"#9c179e\"],[0.4444444444444444,\"#bd3786\"],[0.5555555555555556,\"#d8576b\"],[0.6666666666666666,\"#ed7953\"],[0.7777777777777778,\"#fb9f3a\"],[0.8888888888888888,\"#fdca26\"],[1.0,\"#f0f921\"]]}],\"surface\":[{\"type\":\"surface\",\"colorbar\":{\"outlinewidth\":0,\"ticks\":\"\"},\"colorscale\":[[0.0,\"#0d0887\"],[0.1111111111111111,\"#46039f\"],[0.2222222222222222,\"#7201a8\"],[0.3333333333333333,\"#9c179e\"],[0.4444444444444444,\"#bd3786\"],[0.5555555555555556,\"#d8576b\"],[0.6666666666666666,\"#ed7953\"],[0.7777777777777778,\"#fb9f3a\"],[0.8888888888888888,\"#fdca26\"],[1.0,\"#f0f921\"]]}],\"mesh3d\":[{\"type\":\"mesh3d\",\"colorbar\":{\"outlinewidth\":0,\"ticks\":\"\"}}],\"scatter\":[{\"fillpattern\":{\"fillmode\":\"overlay\",\"size\":10,\"solidity\":0.2},\"type\":\"scatter\"}],\"parcoords\":[{\"type\":\"parcoords\",\"line\":{\"colorbar\":{\"outlinewidth\":0,\"ticks\":\"\"}}}],\"scatterpolargl\":[{\"type\":\"scatterpolargl\",\"marker\":{\"colorbar\":{\"outlinewidth\":0,\"ticks\":\"\"}}}],\"bar\":[{\"error_x\":{\"color\":\"#2a3f5f\"},\"error_y\":{\"color\":\"#2a3f5f\"},\"marker\":{\"line\":{\"color\":\"#E5ECF6\",\"width\":0.5},\"pattern\":{\"fillmode\":\"overlay\",\"size\":10,\"solidity\":0.2}},\"type\":\"bar\"}],\"scattergeo\":[{\"type\":\"scattergeo\",\"marker\":{\"colorbar\":{\"outlinewidth\":0,\"ticks\":\"\"}}}],\"scatterpolar\":[{\"type\":\"scatterpolar\",\"marker\":{\"colorbar\":{\"outlinewidth\":0,\"ticks\":\"\"}}}],\"histogram\":[{\"marker\":{\"pattern\":{\"fillmode\":\"overlay\",\"size\":10,\"solidity\":0.2}},\"type\":\"histogram\"}],\"scattergl\":[{\"type\":\"scattergl\",\"marker\":{\"colorbar\":{\"outlinewidth\":0,\"ticks\":\"\"}}}],\"scatter3d\":[{\"type\":\"scatter3d\",\"line\":{\"colorbar\":{\"outlinewidth\":0,\"ticks\":\"\"}},\"marker\":{\"colorbar\":{\"outlinewidth\":0,\"ticks\":\"\"}}}],\"scattermapbox\":[{\"type\":\"scattermapbox\",\"marker\":{\"colorbar\":{\"outlinewidth\":0,\"ticks\":\"\"}}}],\"scatterternary\":[{\"type\":\"scatterternary\",\"marker\":{\"colorbar\":{\"outlinewidth\":0,\"ticks\":\"\"}}}],\"scattercarpet\":[{\"type\":\"scattercarpet\",\"marker\":{\"colorbar\":{\"outlinewidth\":0,\"ticks\":\"\"}}}],\"carpet\":[{\"aaxis\":{\"endlinecolor\":\"#2a3f5f\",\"gridcolor\":\"white\",\"linecolor\":\"white\",\"minorgridcolor\":\"white\",\"startlinecolor\":\"#2a3f5f\"},\"baxis\":{\"endlinecolor\":\"#2a3f5f\",\"gridcolor\":\"white\",\"linecolor\":\"white\",\"minorgridcolor\":\"white\",\"startlinecolor\":\"#2a3f5f\"},\"type\":\"carpet\"}],\"table\":[{\"cells\":{\"fill\":{\"color\":\"#EBF0F8\"},\"line\":{\"color\":\"white\"}},\"header\":{\"fill\":{\"color\":\"#C8D4E3\"},\"line\":{\"color\":\"white\"}},\"type\":\"table\"}],\"barpolar\":[{\"marker\":{\"line\":{\"color\":\"#E5ECF6\",\"width\":0.5},\"pattern\":{\"fillmode\":\"overlay\",\"size\":10,\"solidity\":0.2}},\"type\":\"barpolar\"}],\"pie\":[{\"automargin\":true,\"type\":\"pie\"}]},\"layout\":{\"autotypenumbers\":\"strict\",\"colorway\":[\"#636efa\",\"#EF553B\",\"#00cc96\",\"#ab63fa\",\"#FFA15A\",\"#19d3f3\",\"#FF6692\",\"#B6E880\",\"#FF97FF\",\"#FECB52\"],\"font\":{\"color\":\"#2a3f5f\"},\"hovermode\":\"closest\",\"hoverlabel\":{\"align\":\"left\"},\"paper_bgcolor\":\"white\",\"plot_bgcolor\":\"#E5ECF6\",\"polar\":{\"bgcolor\":\"#E5ECF6\",\"angularaxis\":{\"gridcolor\":\"white\",\"linecolor\":\"white\",\"ticks\":\"\"},\"radialaxis\":{\"gridcolor\":\"white\",\"linecolor\":\"white\",\"ticks\":\"\"}},\"ternary\":{\"bgcolor\":\"#E5ECF6\",\"aaxis\":{\"gridcolor\":\"white\",\"linecolor\":\"white\",\"ticks\":\"\"},\"baxis\":{\"gridcolor\":\"white\",\"linecolor\":\"white\",\"ticks\":\"\"},\"caxis\":{\"gridcolor\":\"white\",\"linecolor\":\"white\",\"ticks\":\"\"}},\"coloraxis\":{\"colorbar\":{\"outlinewidth\":0,\"ticks\":\"\"}},\"colorscale\":{\"sequential\":[[0.0,\"#0d0887\"],[0.1111111111111111,\"#46039f\"],[0.2222222222222222,\"#7201a8\"],[0.3333333333333333,\"#9c179e\"],[0.4444444444444444,\"#bd3786\"],[0.5555555555555556,\"#d8576b\"],[0.6666666666666666,\"#ed7953\"],[0.7777777777777778,\"#fb9f3a\"],[0.8888888888888888,\"#fdca26\"],[1.0,\"#f0f921\"]],\"sequentialminus\":[[0.0,\"#0d0887\"],[0.1111111111111111,\"#46039f\"],[0.2222222222222222,\"#7201a8\"],[0.3333333333333333,\"#9c179e\"],[0.4444444444444444,\"#bd3786\"],[0.5555555555555556,\"#d8576b\"],[0.6666666666666666,\"#ed7953\"],[0.7777777777777778,\"#fb9f3a\"],[0.8888888888888888,\"#fdca26\"],[1.0,\"#f0f921\"]],\"diverging\":[[0,\"#8e0152\"],[0.1,\"#c51b7d\"],[0.2,\"#de77ae\"],[0.3,\"#f1b6da\"],[0.4,\"#fde0ef\"],[0.5,\"#f7f7f7\"],[0.6,\"#e6f5d0\"],[0.7,\"#b8e186\"],[0.8,\"#7fbc41\"],[0.9,\"#4d9221\"],[1,\"#276419\"]]},\"xaxis\":{\"gridcolor\":\"white\",\"linecolor\":\"white\",\"ticks\":\"\",\"title\":{\"standoff\":15},\"zerolinecolor\":\"white\",\"automargin\":true,\"zerolinewidth\":2},\"yaxis\":{\"gridcolor\":\"white\",\"linecolor\":\"white\",\"ticks\":\"\",\"title\":{\"standoff\":15},\"zerolinecolor\":\"white\",\"automargin\":true,\"zerolinewidth\":2},\"scene\":{\"xaxis\":{\"backgroundcolor\":\"#E5ECF6\",\"gridcolor\":\"white\",\"linecolor\":\"white\",\"showbackground\":true,\"ticks\":\"\",\"zerolinecolor\":\"white\",\"gridwidth\":2},\"yaxis\":{\"backgroundcolor\":\"#E5ECF6\",\"gridcolor\":\"white\",\"linecolor\":\"white\",\"showbackground\":true,\"ticks\":\"\",\"zerolinecolor\":\"white\",\"gridwidth\":2},\"zaxis\":{\"backgroundcolor\":\"#E5ECF6\",\"gridcolor\":\"white\",\"linecolor\":\"white\",\"showbackground\":true,\"ticks\":\"\",\"zerolinecolor\":\"white\",\"gridwidth\":2}},\"shapedefaults\":{\"line\":{\"color\":\"#2a3f5f\"}},\"annotationdefaults\":{\"arrowcolor\":\"#2a3f5f\",\"arrowhead\":0,\"arrowwidth\":1},\"geo\":{\"bgcolor\":\"white\",\"landcolor\":\"#E5ECF6\",\"subunitcolor\":\"white\",\"showland\":true,\"showlakes\":true,\"lakecolor\":\"white\"},\"title\":{\"x\":0.05},\"mapbox\":{\"style\":\"light\"}}},\"xaxis\":{\"anchor\":\"y\",\"domain\":[0.0,1.0],\"title\":{\"text\":\"avg_proxy_leverage\"}},\"yaxis\":{\"anchor\":\"x\",\"domain\":[0.0,1.0],\"title\":{\"text\":\"avg_pnl\"}},\"legend\":{\"title\":{\"text\":\"classification\"},\"tracegroupgap\":0},\"title\":{\"text\":\"PnL vs Leverage by Sentiment\"}},                        {\"responsive\": true}                    ).then(function(){\n",
              "                            \n",
              "var gd = document.getElementById('17b1b5ba-f1cf-4c5d-aa26-8ca434aceb08');\n",
              "var x = new MutationObserver(function (mutations, observer) {{\n",
              "        var display = window.getComputedStyle(gd).display;\n",
              "        if (!display || display === 'none') {{\n",
              "            console.log([gd, 'removed!']);\n",
              "            Plotly.purge(gd);\n",
              "            observer.disconnect();\n",
              "        }}\n",
              "}});\n",
              "\n",
              "// Listen for the removal of the full notebook cells\n",
              "var notebookContainer = gd.closest('#notebook-container');\n",
              "if (notebookContainer) {{\n",
              "    x.observe(notebookContainer, {childList: true});\n",
              "}}\n",
              "\n",
              "// Listen for the clearing of the current output cell\n",
              "var outputEl = gd.closest('.output');\n",
              "if (outputEl) {{\n",
              "    x.observe(outputEl, {childList: true});\n",
              "}}\n",
              "\n",
              "                        })                };                            </script>        </div>\n",
              "</body>\n",
              "</html>"
            ]
          },
          "metadata": {}
        },
        {
          "output_type": "stream",
          "name": "stdout",
          "text": [
            "Extreme Greed VaR: 0.220510499999997 CVaR: 135.43924634400003\n",
            "Extreme Fear VaR: 33.67445874999994 CVaR: 582.0381266383177\n",
            "Fear VaR: 0.7171149999999874 CVaR: 191.91998826002592\n",
            "Greed VaR: 13.957307999999996 CVaR: 415.175197463434\n",
            "Neutral VaR: 5.340448249999992 CVaR: 205.32169591405838\n"
          ]
        }
      ]
    },
    {
      "cell_type": "code",
      "source": [
        "# ===============================\n",
        "# 12. Save Final Dataset\n",
        "# ===============================\n",
        "merged.to_csv(\"csv_files/cleaned_trader_data.csv\", index=False)"
      ],
      "metadata": {
        "id": "h517EOhLDmr1"
      },
      "execution_count": 17,
      "outputs": []
    },
    {
      "cell_type": "code",
      "source": [
        "import shutil\n",
        "\n",
        "# Zip the folders\n",
        "shutil.make_archive(\"csv_files\", 'zip', \"csv_files\")\n",
        "shutil.make_archive(\"outputs\", 'zip', \"outputs\")"
      ],
      "metadata": {
        "colab": {
          "base_uri": "https://localhost:8080/",
          "height": 36
        },
        "id": "2k5c_ivfIqpz",
        "outputId": "0427730f-fb6d-4995-fcd0-548b171c3945"
      },
      "execution_count": 18,
      "outputs": [
        {
          "output_type": "execute_result",
          "data": {
            "text/plain": [
              "'/content/outputs.zip'"
            ],
            "application/vnd.google.colaboratory.intrinsic+json": {
              "type": "string"
            }
          },
          "metadata": {},
          "execution_count": 18
        }
      ]
    }
  ]
}